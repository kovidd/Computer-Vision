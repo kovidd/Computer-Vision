{
 "cells": [
  {
   "cell_type": "code",
   "execution_count": 7,
   "metadata": {
    "scrolled": true
   },
   "outputs": [
    {
     "name": "stdout",
     "output_type": "stream",
     "text": [
      "C:\\Users\\Kovid\\Documents\\UNSW\\2020 Term 2\\COMP9517\\Project\\Fluo-N2DL-HeLa\\Sequence 1\n",
      "C:\\Users\\Kovid\\Documents\\UNSW\\2020 Term 2\\COMP9517\\Project\\Fluo-N2DL-HeLa\\Sequence 2\n",
      "C:\\Users\\Kovid\\Documents\\UNSW\\2020 Term 2\\COMP9517\\Project\\Fluo-N2DL-HeLa\\Sequence 3\n",
      "C:\\Users\\Kovid\\Documents\\UNSW\\2020 Term 2\\COMP9517\\Project\\Fluo-N2DL-HeLa\\Sequence 4\n",
      "C:\\Users\\Kovid\\Documents\\UNSW\\2020 Term 2\\COMP9517\\Project\\DIC-C2DH-HeLa\\Sequence 1\n",
      "C:\\Users\\Kovid\\Documents\\UNSW\\2020 Term 2\\COMP9517\\Project\\DIC-C2DH-HeLa\\Sequence 2\n",
      "C:\\Users\\Kovid\\Documents\\UNSW\\2020 Term 2\\COMP9517\\Project\\DIC-C2DH-HeLa\\Sequence 3\n",
      "C:\\Users\\Kovid\\Documents\\UNSW\\2020 Term 2\\COMP9517\\Project\\DIC-C2DH-HeLa\\Sequence 4\n",
      "C:\\Users\\Kovid\\Documents\\UNSW\\2020 Term 2\\COMP9517\\Project\\PhC-C2DL-PSC\\Sequence 1\n",
      "C:\\Users\\Kovid\\Documents\\UNSW\\2020 Term 2\\COMP9517\\Project\\PhC-C2DL-PSC\\Sequence 2\n",
      "C:\\Users\\Kovid\\Documents\\UNSW\\2020 Term 2\\COMP9517\\Project\\PhC-C2DL-PSC\\Sequence 3\n",
      "C:\\Users\\Kovid\\Documents\\UNSW\\2020 Term 2\\COMP9517\\Project\\PhC-C2DL-PSC\\Sequence 4\n"
     ]
    }
   ],
   "source": [
    "import imutils \n",
    "import numpy as np\n",
    "import cv2\n",
    "import math\n",
    "import glob, os\n",
    "import matplotlib.pyplot as plt\n",
    "\n",
    "def movie(image_folder):\n",
    "    name = image_folder.replace('C:\\\\Users\\\\Kovid\\\\Documents\\\\UNSW\\\\2020 Term 2\\\\COMP9517\\\\Project\\\\', '')\n",
    "    name = name.replace('\\\\', '_')\n",
    "    name = name.replace(' ', '_')\n",
    "    video_name = name+'.avi'\n",
    "    \n",
    "    images = [img for img in os.listdir(image_folder) if img.endswith(\".tif\")]\n",
    "    frame = cv2.imread(os.path.join(image_folder, images[0]))\n",
    "    height, width, layers = frame.shape\n",
    "\n",
    "    os.chdir('C:/Users/Kovid/Documents/UNSW/2020 Term 2/COMP9517/Project/Videos/')\n",
    "    video = cv2.VideoWriter(video_name, 0, 3, (width,height)) #(video_name, 0, fps, (width,height))\n",
    "    \n",
    "    for image in images:\n",
    "        video.write(cv2.imread(os.path.join(image_folder, image)))\n",
    "\n",
    "    cv2.destroyAllWindows()\n",
    "    video.release()\n",
    "    \n",
    "# folders = [ 'Fluo-N2DL-HeLa', 'DIC-C2DH-HeLa', 'PhC-C2DL-PSC']\n",
    "# sequence = ['Sequence 1', 'Sequence 2', 'Sequence 3', 'Sequence 4']\n",
    "\n",
    "folders = [ 'Fluo-N2DL-HeLa']\n",
    "sequence = ['Sequence 1']\n",
    "\n",
    "for folder in folders:\n",
    "    for seq in sequence:\n",
    "        os.chdir('C:/Users/Kovid/Documents/UNSW/2020 Term 2/COMP9517/Project/'+folder+'/'+seq+'/')\n",
    "        print(os.getcwd())\n",
    "        movie(os.getcwd())"
   ]
  },
  {
   "cell_type": "code",
   "execution_count": null,
   "metadata": {},
   "outputs": [],
   "source": []
  }
 ],
 "metadata": {
  "kernelspec": {
   "display_name": "Python 3",
   "language": "python",
   "name": "python3"
  },
  "language_info": {
   "codemirror_mode": {
    "name": "ipython",
    "version": 3
   },
   "file_extension": ".py",
   "mimetype": "text/x-python",
   "name": "python",
   "nbconvert_exporter": "python",
   "pygments_lexer": "ipython3",
   "version": "3.7.7"
  }
 },
 "nbformat": 4,
 "nbformat_minor": 4
}
